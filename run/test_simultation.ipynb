{
 "cells": [
  {
   "cell_type": "markdown",
   "metadata": {},
   "source": [
    "- First call generator.py to create wake\n",
    "- Then call encounter.py to create trajectory\n",
    "- Finally call fwc_wake_encounter.py to calculate wake response "
   ]
  },
  {
   "cell_type": "code",
   "execution_count": null,
   "metadata": {},
   "outputs": [
    {
     "name": "stderr",
     "output_type": "stream",
     "text": [
      "UsageError: Line magic function `%module` not found.\n"
     ]
    }
   ],
   "source": [
    "import subprocess\n",
    "import os\n",
    "\n",
    "### WARNING ###\n",
    "# module load intel-oneapi before calling p2p\n",
    "\n",
    "generator_path = \"/home/kruu/git_folder/wake_encounter/wake_generation/generator.py\"\n",
    "encounter_path = \"/home/kruu/git_folder/wake_encounter/wake_generation/trailer.py\"\n",
    "fwc_path = \"/home/kruu/git_folder/wake_encounter/wake_modeling/fwc_wake_encounter.py\"\n",
    "output_path = \"/home/kruu/git_folder/wake_encounter/data/simulations\"\n",
    "\n",
    "id_run = str(int(os.listdir(output_path)[-1])+1)\n",
    "\n",
    "subprocess.run([\"python\", generator_path, id_run, \"2000\", \"1000\", \"10\", \"2\", \"130\", \"15\", \"1013\", \"10\", \"100\", \"136000\", \"47.3\", \"--gpa 0\"])"
   ]
  },
  {
   "cell_type": "code",
   "execution_count": null,
   "metadata": {},
   "outputs": [],
   "source": []
  }
 ],
 "metadata": {
  "kernelspec": {
   "display_name": "Conda via SLURM wake_encounter",
   "language": "python",
   "name": "jupyter-eg-kernel-slurm-py-conda-1ickuvafe"
  },
  "language_info": {
   "codemirror_mode": {
    "name": "ipython",
    "version": 3
   },
   "file_extension": ".py",
   "mimetype": "text/x-python",
   "name": "python",
   "nbconvert_exporter": "python",
   "pygments_lexer": "ipython3",
   "version": "3.10.13"
  }
 },
 "nbformat": 4,
 "nbformat_minor": 2
}

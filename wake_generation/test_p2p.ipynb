{
 "cells": [
  {
   "cell_type": "code",
   "execution_count": 1,
   "metadata": {
    "tags": []
   },
   "outputs": [],
   "source": [
    "import os\n",
    "import sys\n",
    "\n",
    "dir_p2p = os.path.abspath(\"/home/kruu/git_folder/wake_encounter\")\n",
    "if  dir_p2p not in sys.path:\n",
    "    sys.path.append(dir_p2p)"
   ]
  },
  {
   "cell_type": "code",
   "execution_count": 2,
   "metadata": {
    "tags": []
   },
   "outputs": [
    {
     "name": "stderr",
     "output_type": "stream",
     "text": [
      "/home/kruu/.conda/envs/wake_encounter/lib/python3.10/site-packages/pandas/core/computation/expressions.py:21: UserWarning: Pandas requires version '2.8.4' or newer of 'numexpr' (version '2.7.3' currently installed).\n",
      "  from pandas.core.computation.check import NUMEXPR_INSTALLED\n"
     ]
    }
   ],
   "source": [
    "from P2P_base.wake import wake, aircraft, meteo\n",
    "import pandas as pd"
   ]
  },
  {
   "cell_type": "code",
   "execution_count": 3,
   "metadata": {
    "tags": []
   },
   "outputs": [],
   "source": [
    "fpath_meteo = \"/home/kruu/git_folder/wake_encounter/data/wakes/inputs/1/meteo.dat\"\n",
    "fpath_aircraft = \"/home/kruu/git_folder/wake_encounter/data/wakes/inputs/1/ac_init.dat\"\n",
    "\n",
    "meteo_data = meteo.Meteo.from_dat_file(fpath_meteo)\n",
    "aircraft_data = aircraft.Aircraft.from_dat_file(fpath_aircraft)\n",
    "edr_data = meteo.EDR.from_meteo(meteo_data)"
   ]
  },
  {
   "cell_type": "code",
   "execution_count": 5,
   "metadata": {
    "tags": []
   },
   "outputs": [
    {
     "name": "stdout",
     "output_type": "stream",
     "text": [
      " Abs path: /home/kruu/git_folder/wake_encounter/data/wakes\n",
      " Run ID: 1\n",
      " Input dir: /home/kruu/git_folder/wake_encounter/data/wakes/inputs/1\n",
      " Results dir: /home/kruu/git_folder/wake_encounter/data/wakes/results/1\n",
      " Reading file /home/kruu/git_folder/wake_encounter/data/wakes/inputs/1/fort.13\n",
      " Reading file /home/kruu/git_folder/wake_encounter/data/wakes/inputs/1/ac_init.d\n",
      " at\n",
      " \n",
      "t0    =   30.4\n",
      "gam0  =  464.0\n",
      "b0    =   47.4\n",
      "y0    =    0.0\n",
      "x0    =    0.0\n",
      "z0    =   71.0\n",
      "nit   =    350\n",
      "uac   =   75.6\n",
      "gpa   =    3.0\n",
      " ----------------\n",
      "   rmsy   rmsz   rmsc\n",
      "    NaN    NaN    NaN\n",
      " ----------------\n",
      " ready\n",
      "\n"
     ]
    }
   ],
   "source": [
    "wakes = wake.Wake.generate(aircraft=fpath_aircraft,\n",
    "                            meteo=fpath_meteo,\n",
    "                            edr=edr_data,\n",
    "                            path= os.path.abspath(\"/home/kruu/git_folder/wake_encounter/data/wakes\"),\n",
    "                            verbose=True) "
   ]
  },
  {
   "cell_type": "code",
   "execution_count": null,
   "metadata": {},
   "outputs": [],
   "source": []
  }
 ],
 "metadata": {
  "kernelspec": {
   "display_name": "Conda via SLURM test_p2p",
   "language": "python",
   "name": "jupyter-eg-kernel-slurm-py-conda-1id1lg05g"
  },
  "language_info": {
   "codemirror_mode": {
    "name": "ipython",
    "version": 3
   },
   "file_extension": ".py",
   "mimetype": "text/x-python",
   "name": "python",
   "nbconvert_exporter": "python",
   "pygments_lexer": "ipython3",
   "version": "3.10.13"
  }
 },
 "nbformat": 4,
 "nbformat_minor": 4
}
